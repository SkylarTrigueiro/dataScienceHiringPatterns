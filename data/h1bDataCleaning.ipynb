{
 "cells": [
  {
   "cell_type": "code",
   "execution_count": 1,
   "metadata": {},
   "outputs": [],
   "source": [
    "import numpy as np\n",
    "import pandas as pd\n",
    "import matplotlib.pyplot as plt\n",
    "import seaborn as sns\n",
    "\n",
    "import warnings\n",
    "warnings.filterwarnings('ignore')"
   ]
  },
  {
   "cell_type": "code",
   "execution_count": 2,
   "metadata": {},
   "outputs": [],
   "source": [
    "da = pd.read_csv(\"h1bDataAnalyst.csv\", index_col=0)\n",
    "ds = pd.read_csv(\"h1bDataScientist.csv\", index_col=0)\n",
    "se = pd.read_csv(\"h1bSoftwareEngineer.csv\", index_col=0)"
   ]
  },
  {
   "cell_type": "code",
   "execution_count": 3,
   "metadata": {},
   "outputs": [],
   "source": [
    "da['year'] = pd.DatetimeIndex(da['submitDate']).year\n",
    "ds['year'] = pd.DatetimeIndex(ds['submitDate']).year\n",
    "se['year'] = pd.DatetimeIndex(se['submitDate']).year"
   ]
  },
  {
   "cell_type": "code",
   "execution_count": 4,
   "metadata": {},
   "outputs": [],
   "source": [
    "da = da[da.year > 2014]\n",
    "ds = ds[ds.year > 2014]\n",
    "se = se[se.year > 2014]"
   ]
  },
  {
   "cell_type": "code",
   "execution_count": 5,
   "metadata": {
    "scrolled": true
   },
   "outputs": [],
   "source": [
    "da = da.sort_values('submitDate').reset_index()\n",
    "ds = ds.sort_values('submitDate').reset_index()\n",
    "se = se.sort_values('submitDate').reset_index()"
   ]
  },
  {
   "cell_type": "code",
   "execution_count": 6,
   "metadata": {},
   "outputs": [],
   "source": [
    "da['employer'] = da['employer'].str.lower()\n",
    "ds['employer'] = ds['employer'].str.lower()\n",
    "se['employer'] = se['employer'].str.lower()"
   ]
  },
  {
   "cell_type": "code",
   "execution_count": 7,
   "metadata": {},
   "outputs": [],
   "source": [
    "da.fillna('missing', inplace=True)\n",
    "ds.fillna('missing', inplace=True)\n",
    "se.fillna('missing', inplace=True)"
   ]
  },
  {
   "cell_type": "code",
   "execution_count": 8,
   "metadata": {},
   "outputs": [
    {
     "name": "stdout",
     "output_type": "stream",
     "text": [
      "0 0 0\n"
     ]
    }
   ],
   "source": [
    "print( da.isnull().sum().sum(), ds.isnull().sum().sum(), se.isnull().sum().sum() )"
   ]
  },
  {
   "cell_type": "code",
   "execution_count": 9,
   "metadata": {},
   "outputs": [
    {
     "data": {
      "text/plain": [
       "array(['oracle america inc'], dtype=object)"
      ]
     },
     "execution_count": 9,
     "metadata": {},
     "output_type": "execute_result"
    }
   ],
   "source": [
    "ds.loc[ds['employer'].str.contains('oracle'), 'employer'].unique()"
   ]
  },
  {
   "cell_type": "code",
   "execution_count": 10,
   "metadata": {},
   "outputs": [],
   "source": [
    "da.employer = da.employer.apply(lambda x: 'amazon' if 'amazon' in x else x)\n",
    "ds.employer = ds.employer.apply(lambda x: 'amazon' if 'amazon' in x else x)\n",
    "se.employer = se.employer.apply(lambda x: 'amazon' if 'amazon' in x else x)\n",
    "\n",
    "da.employer = da.employer.apply(lambda x: 'google' if 'google' in x else x)\n",
    "ds.employer = ds.employer.apply(lambda x: 'google' if 'google' in x else x)\n",
    "se.employer = se.employer.apply(lambda x: 'google' if 'google' in x else x)\n",
    "\n",
    "da.employer = da.employer.apply(lambda x: 'adobe' if 'adobe' in x else x)\n",
    "ds.employer = ds.employer.apply(lambda x: 'adobe' if 'adobe' in x else x)\n",
    "se.employer = se.employer.apply(lambda x: 'adobe' if 'adobe' in x else x)"
   ]
  },
  {
   "cell_type": "code",
   "execution_count": 11,
   "metadata": {},
   "outputs": [
    {
     "data": {
      "text/plain": [
       "3127     amazon\n",
       "3463     amazon\n",
       "3524     amazon\n",
       "3532     amazon\n",
       "3534     amazon\n",
       "          ...  \n",
       "15387    amazon\n",
       "15398    amazon\n",
       "15410    amazon\n",
       "15422    amazon\n",
       "15449    amazon\n",
       "Name: employer, Length: 504, dtype: object"
      ]
     },
     "execution_count": 11,
     "metadata": {},
     "output_type": "execute_result"
    }
   ],
   "source": [
    "ds[ ds.employer == 'amazon' ].employer"
   ]
  },
  {
   "cell_type": "code",
   "execution_count": 12,
   "metadata": {},
   "outputs": [],
   "source": [
    "da.drop(['index', 'year'], axis=1, inplace=True)\n",
    "ds.drop(['index', 'year'], axis=1, inplace=True)\n",
    "se.drop(['index', 'year'], axis=1, inplace=True)"
   ]
  },
  {
   "cell_type": "code",
   "execution_count": 13,
   "metadata": {},
   "outputs": [
    {
     "data": {
      "text/plain": [
       "array(['SENIOR DATA SCIENTIST', 'DATA SCIENTIST', 'DATA SCIENTIST 1',\n",
       "       'SR. DATA SCIENTIST', 'PRINCIPAL DATA SCIENTIST',\n",
       "       'DATA SCIENTIST II', 'ASSOCIATE DATA SCIENTIST',\n",
       "       'LEAD DATA SCIENTIST', 'STAFF DATA SCIENTIST', 'DATA SCIENTIST 2',\n",
       "       'DATA SCIENTIST I', 'JR. DATA SCIENTIST',\n",
       "       'SR DATA SCIENTIST BL LAB', 'DATA SCIENTIST 3',\n",
       "       'DATA SCIENTIST III', 'JUNIOR DATA SCIENTIST', 'SR DATA SCIENTIST'],\n",
       "      dtype=object)"
      ]
     },
     "execution_count": 13,
     "metadata": {},
     "output_type": "execute_result"
    }
   ],
   "source": [
    "ds.title.unique()"
   ]
  },
  {
   "cell_type": "code",
   "execution_count": 14,
   "metadata": {},
   "outputs": [],
   "source": [
    "ds_title_map = {\n",
    "    'JR. DATA SCIENTIST':'Junior Data Scientist',\n",
    "    'JUNIOR DATA SCIENTIST':'Junior Data Scientist',\n",
    "    'ASSOCIATE DATA SCIENTIST':'Associate Data Scientist',\n",
    "    'DATA SCIENTIST':'Data Scientist',\n",
    "    'SR DATA SCIENTIST':'Senior Data Scientist',\n",
    "    'SR. DATA SCIENTIST':'Senior Data Scientist',\n",
    "    'SENIOR DATA SCIENTIST':'Senior Data Scientist',\n",
    "    'STAFF DATA SCIENTIST':'Staff Data Scientist',\n",
    "    'PRINCIPAL DATA SCIENTIST':'Principal Data Scientist',\n",
    "    'LEAD DATA SCIENTIST':'Lead Data Scientist',\n",
    "    'DATA SCIENTIST 1':'Associate Data Scientist', \n",
    "    'DATA SCIENTIST 2':'Data Scientist', \n",
    "    'DATA SCIENTIST 3':'Senior Data Scientist',\n",
    "    'DATA SCIENTIST I':'Associate Data Scientist',\n",
    "    'DATA SCIENTIST II':'Data Scientist',\n",
    "    'DATA SCIENTIST III':'Senior Data Scientist'\n",
    "}"
   ]
  },
  {
   "cell_type": "code",
   "execution_count": 15,
   "metadata": {},
   "outputs": [],
   "source": [
    "ds['title'] = ds['title'].map(ds_title_map)"
   ]
  },
  {
   "cell_type": "code",
   "execution_count": 16,
   "metadata": {},
   "outputs": [
    {
     "data": {
      "text/plain": [
       "array(['Senior Data Scientist', 'Data Scientist',\n",
       "       'Associate Data Scientist', 'Principal Data Scientist',\n",
       "       'Lead Data Scientist', 'Staff Data Scientist',\n",
       "       'Junior Data Scientist', nan], dtype=object)"
      ]
     },
     "execution_count": 16,
     "metadata": {},
     "output_type": "execute_result"
    }
   ],
   "source": [
    "ds['title'].unique()"
   ]
  },
  {
   "cell_type": "code",
   "execution_count": 17,
   "metadata": {},
   "outputs": [
    {
     "data": {
      "text/plain": [
       "array(['SENIOR SOFTWARE ENGINEER', 'SOFTWARE ENGINEER',\n",
       "       'PRINCIPAL SOFTWARE ENGINEER', 'STAFF SOFTWARE ENGINEER',\n",
       "       'SOFTWARE ENGINEER 3', 'SOFTWARE ENGINEER 2',\n",
       "       'SOFTWARE ENGINEER II', 'LEAD SOFTWARE ENGINEER',\n",
       "       'SOFTWARE ENGINEER III', 'ASSOCIATE SOFTWARE ENGINEER',\n",
       "       'SOFTWARE ENGINEER I', 'SOFTWARE ENGINEER 1',\n",
       "       'JUNIOR SOFTWARE ENGINEER'], dtype=object)"
      ]
     },
     "execution_count": 17,
     "metadata": {},
     "output_type": "execute_result"
    }
   ],
   "source": [
    "se.title.unique()"
   ]
  },
  {
   "cell_type": "code",
   "execution_count": 18,
   "metadata": {},
   "outputs": [],
   "source": [
    "se_title_map ={\n",
    "    \"JUNIOR SOFTWARE ENGINEER\":\"Junior Software Engineer\",\n",
    "    \"ASSOCIATE SOFTWARE ENGINEER\":\"Associate Software Engineer\",\n",
    "    \"SOFTWARE ENGINEER\":\"Software Engineer\", \n",
    "    \"SENIOR SOFTWARE ENGINEER\":\"Senior Software Engineer\",\n",
    "    \"STAFF SOFTWARE ENGINEER\":\"Staff Software Engineer\",\n",
    "    \"PRINCIPAL SOFTWARE ENGINEER\":\"Principal Software Engineer\",\n",
    "    \"LEAD SOFTWARE ENGINEER\":\"Lead Software Engineer\",\n",
    "    \"SOFTWARE ENGINEER 1\":\"Associate Software Engineer\", \n",
    "    \"SOFTWARE ENGINEER 2\":\"Software Engineer\", \n",
    "    \"SOFTWARE ENGINEER 3\":\"Senior Software Engineer\",\n",
    "    \"SOFTWARE ENGINEER I\":\"Associate Software Engineer\",\n",
    "    \"SOFTWARE ENGINEER II\":\"Software Engineer\",\n",
    "    \"SOFTWARE ENGINEER III\":\"Senior Software Engineer\"\n",
    "}"
   ]
  },
  {
   "cell_type": "code",
   "execution_count": 19,
   "metadata": {},
   "outputs": [],
   "source": [
    "se['title'] = se['title'].map(se_title_map)"
   ]
  },
  {
   "cell_type": "code",
   "execution_count": 20,
   "metadata": {},
   "outputs": [
    {
     "data": {
      "text/plain": [
       "array(['Senior Software Engineer', 'Software Engineer',\n",
       "       'Principal Software Engineer', 'Staff Software Engineer',\n",
       "       'Lead Software Engineer', 'Associate Software Engineer',\n",
       "       'Junior Software Engineer'], dtype=object)"
      ]
     },
     "execution_count": 20,
     "metadata": {},
     "output_type": "execute_result"
    }
   ],
   "source": [
    "se.title.unique()"
   ]
  },
  {
   "cell_type": "code",
   "execution_count": 21,
   "metadata": {},
   "outputs": [
    {
     "data": {
      "text/plain": [
       "array(['SENIOR DATA ANALYST', 'DATA ANALYST', 'PRINCIPAL DATA ANALYST',\n",
       "       'ASSOCIATE DATA ANALYST', 'DATA ANALYST II', 'JUNIOR DATA ANALYST',\n",
       "       'DATA ANALYST III', 'DATA ANALYST I', 'LEAD DATA ANALYST',\n",
       "       'STAFF DATA ANALYST', 'DATA ANALYST 2', 'DATA ANALYST 3',\n",
       "       'DATA ANALYST 1'], dtype=object)"
      ]
     },
     "execution_count": 21,
     "metadata": {},
     "output_type": "execute_result"
    }
   ],
   "source": [
    "da.title.unique()"
   ]
  },
  {
   "cell_type": "code",
   "execution_count": 22,
   "metadata": {},
   "outputs": [],
   "source": [
    "da_title_map = {\n",
    "    'JUNIOR DATA ANALYST':'Junior Data Analyst',\n",
    "    'ASSOCIATE DATA ANALYST':'Associate Data Analyst',\n",
    "    'DATA ANALYST':'Data Analyst',\n",
    "    'SENIOR DATA ANALYST':'Senior Data Analyst',\n",
    "    'STAFF DATA ANALYST':'Staff Data Analyst',\n",
    "    'PRINCIPAL DATA ANALYST':'Principal Data Analyst',\n",
    "    'LEAD DATA ANALYST':'Lead Data Analyst',\n",
    "    'DATA ANALYST 1':'Associate Data Analyst', \n",
    "    'DATA ANALYST 2':'Data Analyst', \n",
    "    'DATA ANALYST 3':'Senior Data Analyst',\n",
    "    'DATA ANALYST I':'Associate Data Analyst',\n",
    "    'DATA ANALYST II':'Data Analyst',\n",
    "    'DATA ANALYST III':'Senior Data Analyst'\n",
    "}"
   ]
  },
  {
   "cell_type": "code",
   "execution_count": 23,
   "metadata": {},
   "outputs": [],
   "source": [
    "da['title'] = da['title'].map(da_title_map)"
   ]
  },
  {
   "cell_type": "code",
   "execution_count": 24,
   "metadata": {},
   "outputs": [
    {
     "data": {
      "text/html": [
       "<div>\n",
       "<style scoped>\n",
       "    .dataframe tbody tr th:only-of-type {\n",
       "        vertical-align: middle;\n",
       "    }\n",
       "\n",
       "    .dataframe tbody tr th {\n",
       "        vertical-align: top;\n",
       "    }\n",
       "\n",
       "    .dataframe thead th {\n",
       "        text-align: right;\n",
       "    }\n",
       "</style>\n",
       "<table border=\"1\" class=\"dataframe\">\n",
       "  <thead>\n",
       "    <tr style=\"text-align: right;\">\n",
       "      <th></th>\n",
       "      <th>employer</th>\n",
       "      <th>title</th>\n",
       "      <th>salary</th>\n",
       "      <th>submitDate</th>\n",
       "      <th>startDate</th>\n",
       "      <th>caseStatus</th>\n",
       "      <th>city</th>\n",
       "      <th>state</th>\n",
       "    </tr>\n",
       "  </thead>\n",
       "  <tbody>\n",
       "    <tr>\n",
       "      <th>0</th>\n",
       "      <td>salesforcecom inc</td>\n",
       "      <td>Senior Data Scientist</td>\n",
       "      <td>180000</td>\n",
       "      <td>2015-01-06</td>\n",
       "      <td>2015-01-19</td>\n",
       "      <td>CERTIFIED</td>\n",
       "      <td>SAN FRANCISCO</td>\n",
       "      <td>CA</td>\n",
       "    </tr>\n",
       "    <tr>\n",
       "      <th>1</th>\n",
       "      <td>threatmetrix inc</td>\n",
       "      <td>Data Scientist</td>\n",
       "      <td>5769</td>\n",
       "      <td>2015-01-06</td>\n",
       "      <td>2015-01-26</td>\n",
       "      <td>CERTIFIED</td>\n",
       "      <td>SAN JOSE</td>\n",
       "      <td>CA</td>\n",
       "    </tr>\n",
       "    <tr>\n",
       "      <th>2</th>\n",
       "      <td>playdots inc</td>\n",
       "      <td>Data Scientist</td>\n",
       "      <td>100000</td>\n",
       "      <td>2015-01-06</td>\n",
       "      <td>2015-01-13</td>\n",
       "      <td>CERTIFIED</td>\n",
       "      <td>NEW YORK</td>\n",
       "      <td>NY</td>\n",
       "    </tr>\n",
       "    <tr>\n",
       "      <th>3</th>\n",
       "      <td>pulsepoint inc</td>\n",
       "      <td>Senior Data Scientist</td>\n",
       "      <td>125000</td>\n",
       "      <td>2015-01-08</td>\n",
       "      <td>2015-01-26</td>\n",
       "      <td>CERTIFIED</td>\n",
       "      <td>NEW YORK</td>\n",
       "      <td>NY</td>\n",
       "    </tr>\n",
       "    <tr>\n",
       "      <th>4</th>\n",
       "      <td>twitter inc</td>\n",
       "      <td>Data Scientist</td>\n",
       "      <td>130000</td>\n",
       "      <td>2015-01-09</td>\n",
       "      <td>2015-07-03</td>\n",
       "      <td>CERTIFIED</td>\n",
       "      <td>SAN FRANCISCO</td>\n",
       "      <td>CA</td>\n",
       "    </tr>\n",
       "  </tbody>\n",
       "</table>\n",
       "</div>"
      ],
      "text/plain": [
       "            employer                  title  salary  submitDate   startDate  \\\n",
       "0  salesforcecom inc  Senior Data Scientist  180000  2015-01-06  2015-01-19   \n",
       "1   threatmetrix inc         Data Scientist    5769  2015-01-06  2015-01-26   \n",
       "2       playdots inc         Data Scientist  100000  2015-01-06  2015-01-13   \n",
       "3     pulsepoint inc  Senior Data Scientist  125000  2015-01-08  2015-01-26   \n",
       "4        twitter inc         Data Scientist  130000  2015-01-09  2015-07-03   \n",
       "\n",
       "  caseStatus           city state  \n",
       "0  CERTIFIED  SAN FRANCISCO    CA  \n",
       "1  CERTIFIED       SAN JOSE    CA  \n",
       "2  CERTIFIED       NEW YORK    NY  \n",
       "3  CERTIFIED       NEW YORK    NY  \n",
       "4  CERTIFIED  SAN FRANCISCO    CA  "
      ]
     },
     "execution_count": 24,
     "metadata": {},
     "output_type": "execute_result"
    }
   ],
   "source": [
    "ds.head()"
   ]
  },
  {
   "cell_type": "code",
   "execution_count": 25,
   "metadata": {},
   "outputs": [],
   "source": [
    "month_map = {\n",
    "    1:'Jan',\n",
    "    2:'Feb',\n",
    "    3:'Mar',\n",
    "    4:'Apr',\n",
    "    5:'May',\n",
    "    6:'Jun',\n",
    "    7:'Jul',\n",
    "    8:'Aug',\n",
    "    9:'Sep',\n",
    "    10:'Oct',\n",
    "    11:'Nov',\n",
    "    12:'Dec'\n",
    "}"
   ]
  },
  {
   "cell_type": "code",
   "execution_count": 26,
   "metadata": {},
   "outputs": [
    {
     "data": {
      "text/html": [
       "<div>\n",
       "<style scoped>\n",
       "    .dataframe tbody tr th:only-of-type {\n",
       "        vertical-align: middle;\n",
       "    }\n",
       "\n",
       "    .dataframe tbody tr th {\n",
       "        vertical-align: top;\n",
       "    }\n",
       "\n",
       "    .dataframe thead th {\n",
       "        text-align: right;\n",
       "    }\n",
       "</style>\n",
       "<table border=\"1\" class=\"dataframe\">\n",
       "  <thead>\n",
       "    <tr style=\"text-align: right;\">\n",
       "      <th></th>\n",
       "      <th>employer</th>\n",
       "      <th>title</th>\n",
       "      <th>salary</th>\n",
       "      <th>submitDate</th>\n",
       "      <th>startDate</th>\n",
       "      <th>caseStatus</th>\n",
       "      <th>city</th>\n",
       "      <th>state</th>\n",
       "    </tr>\n",
       "  </thead>\n",
       "  <tbody>\n",
       "    <tr>\n",
       "      <th>0</th>\n",
       "      <td>salesforcecom inc</td>\n",
       "      <td>Senior Data Scientist</td>\n",
       "      <td>180000</td>\n",
       "      <td>2015-01-06</td>\n",
       "      <td>2015-01-19</td>\n",
       "      <td>CERTIFIED</td>\n",
       "      <td>SAN FRANCISCO</td>\n",
       "      <td>CA</td>\n",
       "    </tr>\n",
       "    <tr>\n",
       "      <th>1</th>\n",
       "      <td>threatmetrix inc</td>\n",
       "      <td>Data Scientist</td>\n",
       "      <td>5769</td>\n",
       "      <td>2015-01-06</td>\n",
       "      <td>2015-01-26</td>\n",
       "      <td>CERTIFIED</td>\n",
       "      <td>SAN JOSE</td>\n",
       "      <td>CA</td>\n",
       "    </tr>\n",
       "    <tr>\n",
       "      <th>2</th>\n",
       "      <td>playdots inc</td>\n",
       "      <td>Data Scientist</td>\n",
       "      <td>100000</td>\n",
       "      <td>2015-01-06</td>\n",
       "      <td>2015-01-13</td>\n",
       "      <td>CERTIFIED</td>\n",
       "      <td>NEW YORK</td>\n",
       "      <td>NY</td>\n",
       "    </tr>\n",
       "    <tr>\n",
       "      <th>3</th>\n",
       "      <td>pulsepoint inc</td>\n",
       "      <td>Senior Data Scientist</td>\n",
       "      <td>125000</td>\n",
       "      <td>2015-01-08</td>\n",
       "      <td>2015-01-26</td>\n",
       "      <td>CERTIFIED</td>\n",
       "      <td>NEW YORK</td>\n",
       "      <td>NY</td>\n",
       "    </tr>\n",
       "    <tr>\n",
       "      <th>4</th>\n",
       "      <td>twitter inc</td>\n",
       "      <td>Data Scientist</td>\n",
       "      <td>130000</td>\n",
       "      <td>2015-01-09</td>\n",
       "      <td>2015-07-03</td>\n",
       "      <td>CERTIFIED</td>\n",
       "      <td>SAN FRANCISCO</td>\n",
       "      <td>CA</td>\n",
       "    </tr>\n",
       "  </tbody>\n",
       "</table>\n",
       "</div>"
      ],
      "text/plain": [
       "            employer                  title  salary  submitDate   startDate  \\\n",
       "0  salesforcecom inc  Senior Data Scientist  180000  2015-01-06  2015-01-19   \n",
       "1   threatmetrix inc         Data Scientist    5769  2015-01-06  2015-01-26   \n",
       "2       playdots inc         Data Scientist  100000  2015-01-06  2015-01-13   \n",
       "3     pulsepoint inc  Senior Data Scientist  125000  2015-01-08  2015-01-26   \n",
       "4        twitter inc         Data Scientist  130000  2015-01-09  2015-07-03   \n",
       "\n",
       "  caseStatus           city state  \n",
       "0  CERTIFIED  SAN FRANCISCO    CA  \n",
       "1  CERTIFIED       SAN JOSE    CA  \n",
       "2  CERTIFIED       NEW YORK    NY  \n",
       "3  CERTIFIED       NEW YORK    NY  \n",
       "4  CERTIFIED  SAN FRANCISCO    CA  "
      ]
     },
     "execution_count": 26,
     "metadata": {},
     "output_type": "execute_result"
    }
   ],
   "source": [
    "ds.head()"
   ]
  },
  {
   "cell_type": "code",
   "execution_count": 27,
   "metadata": {},
   "outputs": [
    {
     "data": {
      "text/html": [
       "<div>\n",
       "<style scoped>\n",
       "    .dataframe tbody tr th:only-of-type {\n",
       "        vertical-align: middle;\n",
       "    }\n",
       "\n",
       "    .dataframe tbody tr th {\n",
       "        vertical-align: top;\n",
       "    }\n",
       "\n",
       "    .dataframe thead th {\n",
       "        text-align: right;\n",
       "    }\n",
       "</style>\n",
       "<table border=\"1\" class=\"dataframe\">\n",
       "  <thead>\n",
       "    <tr style=\"text-align: right;\">\n",
       "      <th></th>\n",
       "      <th>employer</th>\n",
       "      <th>title</th>\n",
       "      <th>salary</th>\n",
       "      <th>submitDate</th>\n",
       "      <th>startDate</th>\n",
       "      <th>caseStatus</th>\n",
       "      <th>city</th>\n",
       "      <th>state</th>\n",
       "    </tr>\n",
       "  </thead>\n",
       "  <tbody>\n",
       "    <tr>\n",
       "      <th>0</th>\n",
       "      <td>salesforcecom inc</td>\n",
       "      <td>Senior Data Scientist</td>\n",
       "      <td>180000</td>\n",
       "      <td>2015-01-06</td>\n",
       "      <td>2015-01-19</td>\n",
       "      <td>CERTIFIED</td>\n",
       "      <td>SAN FRANCISCO</td>\n",
       "      <td>CA</td>\n",
       "    </tr>\n",
       "    <tr>\n",
       "      <th>1</th>\n",
       "      <td>threatmetrix inc</td>\n",
       "      <td>Data Scientist</td>\n",
       "      <td>5769</td>\n",
       "      <td>2015-01-06</td>\n",
       "      <td>2015-01-26</td>\n",
       "      <td>CERTIFIED</td>\n",
       "      <td>SAN JOSE</td>\n",
       "      <td>CA</td>\n",
       "    </tr>\n",
       "    <tr>\n",
       "      <th>2</th>\n",
       "      <td>playdots inc</td>\n",
       "      <td>Data Scientist</td>\n",
       "      <td>100000</td>\n",
       "      <td>2015-01-06</td>\n",
       "      <td>2015-01-13</td>\n",
       "      <td>CERTIFIED</td>\n",
       "      <td>NEW YORK</td>\n",
       "      <td>NY</td>\n",
       "    </tr>\n",
       "    <tr>\n",
       "      <th>3</th>\n",
       "      <td>pulsepoint inc</td>\n",
       "      <td>Senior Data Scientist</td>\n",
       "      <td>125000</td>\n",
       "      <td>2015-01-08</td>\n",
       "      <td>2015-01-26</td>\n",
       "      <td>CERTIFIED</td>\n",
       "      <td>NEW YORK</td>\n",
       "      <td>NY</td>\n",
       "    </tr>\n",
       "    <tr>\n",
       "      <th>4</th>\n",
       "      <td>twitter inc</td>\n",
       "      <td>Data Scientist</td>\n",
       "      <td>130000</td>\n",
       "      <td>2015-01-09</td>\n",
       "      <td>2015-07-03</td>\n",
       "      <td>CERTIFIED</td>\n",
       "      <td>SAN FRANCISCO</td>\n",
       "      <td>CA</td>\n",
       "    </tr>\n",
       "    <tr>\n",
       "      <th>...</th>\n",
       "      <td>...</td>\n",
       "      <td>...</td>\n",
       "      <td>...</td>\n",
       "      <td>...</td>\n",
       "      <td>...</td>\n",
       "      <td>...</td>\n",
       "      <td>...</td>\n",
       "      <td>...</td>\n",
       "    </tr>\n",
       "    <tr>\n",
       "      <th>15468</th>\n",
       "      <td>maplebear inc</td>\n",
       "      <td>Data Scientist</td>\n",
       "      <td>150000</td>\n",
       "      <td>2020-12-22</td>\n",
       "      <td>2021-02-08</td>\n",
       "      <td>CERTIFIED</td>\n",
       "      <td>SAN FRANCISCO</td>\n",
       "      <td>CA</td>\n",
       "    </tr>\n",
       "    <tr>\n",
       "      <th>15467</th>\n",
       "      <td>anthem inc</td>\n",
       "      <td>Data Scientist</td>\n",
       "      <td>84718</td>\n",
       "      <td>2020-12-22</td>\n",
       "      <td>2021-01-25</td>\n",
       "      <td>CERTIFIED</td>\n",
       "      <td>ATLANTA</td>\n",
       "      <td>GA</td>\n",
       "    </tr>\n",
       "    <tr>\n",
       "      <th>15479</th>\n",
       "      <td>bold penguin inc</td>\n",
       "      <td>Data Scientist</td>\n",
       "      <td>112500</td>\n",
       "      <td>2020-12-22</td>\n",
       "      <td>2020-12-31</td>\n",
       "      <td>CERTIFIED</td>\n",
       "      <td>COLUMBUS</td>\n",
       "      <td>OH</td>\n",
       "    </tr>\n",
       "    <tr>\n",
       "      <th>15472</th>\n",
       "      <td>freedom financial network llc</td>\n",
       "      <td>Staff Data Scientist</td>\n",
       "      <td>140000</td>\n",
       "      <td>2020-12-22</td>\n",
       "      <td>2021-02-08</td>\n",
       "      <td>CERTIFIED</td>\n",
       "      <td>SAN MATEO</td>\n",
       "      <td>CA</td>\n",
       "    </tr>\n",
       "    <tr>\n",
       "      <th>15480</th>\n",
       "      <td>bytedance inc</td>\n",
       "      <td>Data Scientist</td>\n",
       "      <td>185000</td>\n",
       "      <td>2020-12-22</td>\n",
       "      <td>2021-01-04</td>\n",
       "      <td>CERTIFIED</td>\n",
       "      <td>MOUNTAIN VIEW</td>\n",
       "      <td>CA</td>\n",
       "    </tr>\n",
       "  </tbody>\n",
       "</table>\n",
       "<p>15481 rows × 8 columns</p>\n",
       "</div>"
      ],
      "text/plain": [
       "                            employer                  title  salary  \\\n",
       "0                  salesforcecom inc  Senior Data Scientist  180000   \n",
       "1                   threatmetrix inc         Data Scientist    5769   \n",
       "2                       playdots inc         Data Scientist  100000   \n",
       "3                     pulsepoint inc  Senior Data Scientist  125000   \n",
       "4                        twitter inc         Data Scientist  130000   \n",
       "...                              ...                    ...     ...   \n",
       "15468                  maplebear inc         Data Scientist  150000   \n",
       "15467                     anthem inc         Data Scientist   84718   \n",
       "15479               bold penguin inc         Data Scientist  112500   \n",
       "15472  freedom financial network llc   Staff Data Scientist  140000   \n",
       "15480                  bytedance inc         Data Scientist  185000   \n",
       "\n",
       "       submitDate   startDate caseStatus           city state  \n",
       "0      2015-01-06  2015-01-19  CERTIFIED  SAN FRANCISCO    CA  \n",
       "1      2015-01-06  2015-01-26  CERTIFIED       SAN JOSE    CA  \n",
       "2      2015-01-06  2015-01-13  CERTIFIED       NEW YORK    NY  \n",
       "3      2015-01-08  2015-01-26  CERTIFIED       NEW YORK    NY  \n",
       "4      2015-01-09  2015-07-03  CERTIFIED  SAN FRANCISCO    CA  \n",
       "...           ...         ...        ...            ...   ...  \n",
       "15468  2020-12-22  2021-02-08  CERTIFIED  SAN FRANCISCO    CA  \n",
       "15467  2020-12-22  2021-01-25  CERTIFIED        ATLANTA    GA  \n",
       "15479  2020-12-22  2020-12-31  CERTIFIED       COLUMBUS    OH  \n",
       "15472  2020-12-22  2021-02-08  CERTIFIED      SAN MATEO    CA  \n",
       "15480  2020-12-22  2021-01-04  CERTIFIED  MOUNTAIN VIEW    CA  \n",
       "\n",
       "[15481 rows x 8 columns]"
      ]
     },
     "execution_count": 27,
     "metadata": {},
     "output_type": "execute_result"
    }
   ],
   "source": [
    "ds.sort_values('submitDate')"
   ]
  },
  {
   "cell_type": "code",
   "execution_count": 28,
   "metadata": {},
   "outputs": [],
   "source": [
    "da.to_csv(\"h1bDataAnalystCleaned.csv\")\n",
    "ds.to_csv(\"h1bDataScientistCleaned.csv\")\n",
    "se.to_csv(\"h1bSoftwareEngineerCleaned.csv\")"
   ]
  }
 ],
 "metadata": {
  "kernelspec": {
   "display_name": "Python 3",
   "language": "python",
   "name": "python3"
  },
  "language_info": {
   "codemirror_mode": {
    "name": "ipython",
    "version": 3
   },
   "file_extension": ".py",
   "mimetype": "text/x-python",
   "name": "python",
   "nbconvert_exporter": "python",
   "pygments_lexer": "ipython3",
   "version": "3.7.9"
  }
 },
 "nbformat": 4,
 "nbformat_minor": 4
}
