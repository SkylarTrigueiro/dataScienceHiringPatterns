{
 "cells": [
  {
   "cell_type": "code",
   "execution_count": 1,
   "metadata": {},
   "outputs": [],
   "source": [
    "import numpy as np\n",
    "import pandas as pd\n",
    "import matplotlib.pyplot as plt\n",
    "import seaborn as sns\n",
    "\n",
    "import warnings\n",
    "warnings.filterwarnings('ignore')"
   ]
  },
  {
   "cell_type": "code",
   "execution_count": 2,
   "metadata": {},
   "outputs": [],
   "source": [
    "da = pd.read_csv(\"h1bDataAnalyst.csv\", index_col=0)\n",
    "ds = pd.read_csv(\"h1bDataScientist.csv\", index_col=0)\n",
    "se = pd.read_csv(\"h1bSoftwareEngineer.csv\", index_col=0)"
   ]
  },
  {
   "cell_type": "code",
   "execution_count": 3,
   "metadata": {},
   "outputs": [],
   "source": [
    "da = da[da.submitYear>2014]\n",
    "ds = ds[ds.submitYear>2014]\n",
    "se = se[se.submitYear>2014]"
   ]
  },
  {
   "cell_type": "code",
   "execution_count": 4,
   "metadata": {},
   "outputs": [
    {
     "data": {
      "text/plain": [
       "array(['ASSOCIATE DATA SCIENTIST', 'DATA SCIENTIST',\n",
       "       'STAFF DATA SCIENTIST', 'SENIOR DATA SCIENTIST',\n",
       "       'PRINCIPAL DATA SCIENTIST', 'LEAD DATA SCIENTIST',\n",
       "       'DATA SCIENTIST 1', 'DATA SCIENTIST 2', 'DATA SCIENTIST 3',\n",
       "       'DATA SCIENTIST I', 'DATA SCIENTIST II', 'DATA SCIENTIST III',\n",
       "       'JUNIOR DATA SCIENTIST'], dtype=object)"
      ]
     },
     "execution_count": 4,
     "metadata": {},
     "output_type": "execute_result"
    }
   ],
   "source": [
    "ds.title.unique()"
   ]
  },
  {
   "cell_type": "code",
   "execution_count": 5,
   "metadata": {},
   "outputs": [],
   "source": [
    "ds_title_map = {\n",
    "    'JUNIOR DATA SCIENTIST':'Junior Data Scientist',\n",
    "    'ASSOCIATE DATA SCIENTIST':'Associate Data Scientist',\n",
    "    'DATA SCIENTIST':'Data Scientist',\n",
    "    'SENIOR DATA SCIENTIST':'Senior Data Scientist',\n",
    "    'STAFF DATA SCIENTIST':'Staff Data Scientist',\n",
    "    'PRINCIPAL DATA SCIENTIST':'Principal Data Scientist',\n",
    "    'LEAD DATA SCIENTIST':'Lead Data Scientist',\n",
    "    'DATA SCIENTIST 1':'Associate Data Scientist', \n",
    "    'DATA SCIENTIST 2':'Data Scientist', \n",
    "    'DATA SCIENTIST 3':'Senior Data Scientist',\n",
    "    'DATA SCIENTIST I':'Associate Data Scientist',\n",
    "    'DATA SCIENTIST II':'Data Scientist',\n",
    "    'DATA SCIENTIST III':'Senior Data Scientist'\n",
    "}"
   ]
  },
  {
   "cell_type": "code",
   "execution_count": 6,
   "metadata": {},
   "outputs": [],
   "source": [
    "ds['title'] = ds['title'].map(ds_title_map)"
   ]
  },
  {
   "cell_type": "code",
   "execution_count": 7,
   "metadata": {},
   "outputs": [
    {
     "data": {
      "text/plain": [
       "array(['Associate Data Scientist', 'Data Scientist',\n",
       "       'Staff Data Scientist', 'Senior Data Scientist',\n",
       "       'Principal Data Scientist', 'Lead Data Scientist',\n",
       "       'Junior Data Scientist'], dtype=object)"
      ]
     },
     "execution_count": 7,
     "metadata": {},
     "output_type": "execute_result"
    }
   ],
   "source": [
    "ds['title'].unique()"
   ]
  },
  {
   "cell_type": "code",
   "execution_count": 8,
   "metadata": {},
   "outputs": [
    {
     "data": {
      "text/plain": [
       "array(['JUNIOR SOFTWARE ENGINEER', 'ASSOCIATE SOFTWARE ENGINEER',\n",
       "       'SOFTWARE ENGINEER', 'SENIOR SOFTWARE ENGINEER',\n",
       "       'STAFF SOFTWARE ENGINEER', 'PRINCIPAL SOFTWARE ENGINEER',\n",
       "       'LEAD SOFTWARE ENGINEER', 'SOFTWARE ENGINEER 1',\n",
       "       'SOFTWARE ENGINEER 2', 'SOFTWARE ENGINEER 3',\n",
       "       'SOFTWARE ENGINEER I', 'SOFTWARE ENGINEER II',\n",
       "       'SOFTWARE ENGINEER III'], dtype=object)"
      ]
     },
     "execution_count": 8,
     "metadata": {},
     "output_type": "execute_result"
    }
   ],
   "source": [
    "se.title.unique()"
   ]
  },
  {
   "cell_type": "code",
   "execution_count": 9,
   "metadata": {},
   "outputs": [],
   "source": [
    "se_title_map ={\n",
    "    \"JUNIOR SOFTWARE ENGINEER\":\"Junior Software Engineer\",\n",
    "    \"ASSOCIATE SOFTWARE ENGINEER\":\"Associate Software Engineer\",\n",
    "    \"SOFTWARE ENGINEER\":\"Software Engineer\", \n",
    "    \"SENIOR SOFTWARE ENGINEER\":\"Senior Software Engineer\",\n",
    "    \"STAFF SOFTWARE ENGINEER\":\"Staff Software Engineer\",\n",
    "    \"PRINCIPAL SOFTWARE ENGINEER\":\"Principal Software Engineer\",\n",
    "    \"LEAD SOFTWARE ENGINEER\":\"Lead Software Engineer\",\n",
    "    \"SOFTWARE ENGINEER 1\":\"Associate Software Engineer\", \n",
    "    \"SOFTWARE ENGINEER 2\":\"Software Engineer\", \n",
    "    \"SOFTWARE ENGINEER 3\":\"Senior Software Engineer\",\n",
    "    \"SOFTWARE ENGINEER I\":\"Associate Software Engineer\",\n",
    "    \"SOFTWARE ENGINEER II\":\"Software Engineer\",\n",
    "    \"SOFTWARE ENGINEER III\":\"Senior Software Engineer\"\n",
    "}"
   ]
  },
  {
   "cell_type": "code",
   "execution_count": 10,
   "metadata": {},
   "outputs": [],
   "source": [
    "se['title'] = se['title'].map(se_title_map)"
   ]
  },
  {
   "cell_type": "code",
   "execution_count": 11,
   "metadata": {},
   "outputs": [
    {
     "data": {
      "text/plain": [
       "array(['Junior Software Engineer', 'Associate Software Engineer',\n",
       "       'Software Engineer', 'Senior Software Engineer',\n",
       "       'Staff Software Engineer', 'Principal Software Engineer',\n",
       "       'Lead Software Engineer'], dtype=object)"
      ]
     },
     "execution_count": 11,
     "metadata": {},
     "output_type": "execute_result"
    }
   ],
   "source": [
    "se.title.unique()"
   ]
  },
  {
   "cell_type": "code",
   "execution_count": 12,
   "metadata": {},
   "outputs": [
    {
     "data": {
      "text/plain": [
       "array(['JUNIOR DATA ANALYST', 'ASSOCIATE DATA ANALYST', 'DATA ANALYST',\n",
       "       'STAFF DATA ANALYST', 'SENIOR DATA ANALYST',\n",
       "       'PRINCIPAL DATA ANALYST', 'LEAD DATA ANALYST', 'DATA ANALYST 2',\n",
       "       'DATA ANALYST I', 'DATA ANALYST II', 'DATA ANALYST III',\n",
       "       'DATA ANALYST 1', 'DATA ANALYST 3'], dtype=object)"
      ]
     },
     "execution_count": 12,
     "metadata": {},
     "output_type": "execute_result"
    }
   ],
   "source": [
    "da.title.unique()"
   ]
  },
  {
   "cell_type": "code",
   "execution_count": 13,
   "metadata": {},
   "outputs": [],
   "source": [
    "da_title_map = {\n",
    "    'JUNIOR DATA ANALYST':'Junior Data Analyst',\n",
    "    'ASSOCIATE DATA ANALYST':'Associate Data Analyst',\n",
    "    'DATA ANALYST':'Data Analyst',\n",
    "    'SENIOR DATA ANALYST':'Senior Data Analyst',\n",
    "    'STAFF DATA ANALYST':'Staff Data Analyst',\n",
    "    'PRINCIPAL DATA ANALYST':'Principal Data Analyst',\n",
    "    'LEAD DATA ANALYST':'Lead Data Analyst',\n",
    "    'DATA ANALYST 1':'Associate Data Analyst', \n",
    "    'DATA ANALYST 2':'Data Analyst', \n",
    "    'DATA ANALYST 3':'Senior Data Analyst',\n",
    "    'DATA ANALYST I':'Associate Data Analyst',\n",
    "    'DATA ANALYST II':'Data Analyst',\n",
    "    'DATA ANALYST III':'Senior Data Analyst'\n",
    "}"
   ]
  },
  {
   "cell_type": "code",
   "execution_count": 14,
   "metadata": {},
   "outputs": [],
   "source": [
    "da['title'] = da['title'].map(da_title_map)"
   ]
  },
  {
   "cell_type": "code",
   "execution_count": 15,
   "metadata": {},
   "outputs": [
    {
     "data": {
      "text/html": [
       "<div>\n",
       "<style scoped>\n",
       "    .dataframe tbody tr th:only-of-type {\n",
       "        vertical-align: middle;\n",
       "    }\n",
       "\n",
       "    .dataframe tbody tr th {\n",
       "        vertical-align: top;\n",
       "    }\n",
       "\n",
       "    .dataframe thead th {\n",
       "        text-align: right;\n",
       "    }\n",
       "</style>\n",
       "<table border=\"1\" class=\"dataframe\">\n",
       "  <thead>\n",
       "    <tr style=\"text-align: right;\">\n",
       "      <th></th>\n",
       "      <th>employer</th>\n",
       "      <th>title</th>\n",
       "      <th>salary</th>\n",
       "      <th>submitDate</th>\n",
       "      <th>startDate</th>\n",
       "      <th>caseStatus</th>\n",
       "      <th>city</th>\n",
       "      <th>state</th>\n",
       "      <th>submitMonth</th>\n",
       "      <th>startMonth</th>\n",
       "      <th>submitYear</th>\n",
       "      <th>startYear</th>\n",
       "    </tr>\n",
       "  </thead>\n",
       "  <tbody>\n",
       "    <tr>\n",
       "      <th>0</th>\n",
       "      <td>AMERICAN INSTITUTES FOR RESEARCH</td>\n",
       "      <td>Associate Data Scientist</td>\n",
       "      <td>43181</td>\n",
       "      <td>2015-09-29</td>\n",
       "      <td>2015-11-01</td>\n",
       "      <td>CERTIFIED</td>\n",
       "      <td>ROCKVILLE</td>\n",
       "      <td>MD</td>\n",
       "      <td>9</td>\n",
       "      <td>11</td>\n",
       "      <td>2015</td>\n",
       "      <td>2015</td>\n",
       "    </tr>\n",
       "    <tr>\n",
       "      <th>1</th>\n",
       "      <td>MIKAN ASSOCIATES LLC</td>\n",
       "      <td>Associate Data Scientist</td>\n",
       "      <td>50190</td>\n",
       "      <td>2015-03-16</td>\n",
       "      <td>2015-09-06</td>\n",
       "      <td>CERTIFIED</td>\n",
       "      <td>CHICAGO</td>\n",
       "      <td>IL</td>\n",
       "      <td>3</td>\n",
       "      <td>9</td>\n",
       "      <td>2015</td>\n",
       "      <td>2015</td>\n",
       "    </tr>\n",
       "    <tr>\n",
       "      <th>2</th>\n",
       "      <td>BINARY GROUP INC</td>\n",
       "      <td>Associate Data Scientist</td>\n",
       "      <td>55000</td>\n",
       "      <td>2015-03-11</td>\n",
       "      <td>2015-09-10</td>\n",
       "      <td>WITHDRAWN</td>\n",
       "      <td>ARLINGTON</td>\n",
       "      <td>VA</td>\n",
       "      <td>3</td>\n",
       "      <td>9</td>\n",
       "      <td>2015</td>\n",
       "      <td>2015</td>\n",
       "    </tr>\n",
       "    <tr>\n",
       "      <th>3</th>\n",
       "      <td>BINARY GROUP INC</td>\n",
       "      <td>Associate Data Scientist</td>\n",
       "      <td>55000</td>\n",
       "      <td>2015-03-11</td>\n",
       "      <td>2015-09-10</td>\n",
       "      <td>DENIED</td>\n",
       "      <td>ARLINGTON</td>\n",
       "      <td>VA</td>\n",
       "      <td>3</td>\n",
       "      <td>9</td>\n",
       "      <td>2015</td>\n",
       "      <td>2015</td>\n",
       "    </tr>\n",
       "    <tr>\n",
       "      <th>4</th>\n",
       "      <td>BINARY GROUP INC</td>\n",
       "      <td>Associate Data Scientist</td>\n",
       "      <td>55000</td>\n",
       "      <td>2015-03-18</td>\n",
       "      <td>2015-09-10</td>\n",
       "      <td>CERTIFIED</td>\n",
       "      <td>ARLINGTON</td>\n",
       "      <td>VA</td>\n",
       "      <td>3</td>\n",
       "      <td>9</td>\n",
       "      <td>2015</td>\n",
       "      <td>2015</td>\n",
       "    </tr>\n",
       "  </tbody>\n",
       "</table>\n",
       "</div>"
      ],
      "text/plain": [
       "                           employer                     title  salary  \\\n",
       "0  AMERICAN INSTITUTES FOR RESEARCH  Associate Data Scientist   43181   \n",
       "1              MIKAN ASSOCIATES LLC  Associate Data Scientist   50190   \n",
       "2                  BINARY GROUP INC  Associate Data Scientist   55000   \n",
       "3                  BINARY GROUP INC  Associate Data Scientist   55000   \n",
       "4                  BINARY GROUP INC  Associate Data Scientist   55000   \n",
       "\n",
       "   submitDate   startDate caseStatus       city state  submitMonth  \\\n",
       "0  2015-09-29  2015-11-01  CERTIFIED  ROCKVILLE    MD            9   \n",
       "1  2015-03-16  2015-09-06  CERTIFIED    CHICAGO    IL            3   \n",
       "2  2015-03-11  2015-09-10  WITHDRAWN  ARLINGTON    VA            3   \n",
       "3  2015-03-11  2015-09-10     DENIED  ARLINGTON    VA            3   \n",
       "4  2015-03-18  2015-09-10  CERTIFIED  ARLINGTON    VA            3   \n",
       "\n",
       "   startMonth  submitYear  startYear  \n",
       "0          11        2015       2015  \n",
       "1           9        2015       2015  \n",
       "2           9        2015       2015  \n",
       "3           9        2015       2015  \n",
       "4           9        2015       2015  "
      ]
     },
     "execution_count": 15,
     "metadata": {},
     "output_type": "execute_result"
    }
   ],
   "source": [
    "ds.head()"
   ]
  },
  {
   "cell_type": "code",
   "execution_count": 16,
   "metadata": {},
   "outputs": [],
   "source": [
    "month_map = {\n",
    "    1:'Jan',\n",
    "    2:'Feb',\n",
    "    3:'Mar',\n",
    "    4:'Apr',\n",
    "    5:'May',\n",
    "    6:'Jun',\n",
    "    7:'Jul',\n",
    "    8:'Aug',\n",
    "    9:'Sep',\n",
    "    10:'Oct',\n",
    "    11:'Nov',\n",
    "    12:'Dec'\n",
    "}"
   ]
  },
  {
   "cell_type": "code",
   "execution_count": 17,
   "metadata": {},
   "outputs": [],
   "source": [
    "ds['submitMonth'] = ds['submitMonth'].map(month_map)\n",
    "ds['startMonth'] = ds['startMonth'].map(month_map)\n",
    "\n",
    "se['submitMonth'] = se['submitMonth'].map(month_map)\n",
    "se['startMonth'] = se['startMonth'].map(month_map)\n",
    "\n",
    "da['submitMonth'] = da['submitMonth'].map(month_map)\n",
    "da['startMonth'] = da['startMonth'].map(month_map)"
   ]
  },
  {
   "cell_type": "code",
   "execution_count": 18,
   "metadata": {},
   "outputs": [
    {
     "data": {
      "text/html": [
       "<div>\n",
       "<style scoped>\n",
       "    .dataframe tbody tr th:only-of-type {\n",
       "        vertical-align: middle;\n",
       "    }\n",
       "\n",
       "    .dataframe tbody tr th {\n",
       "        vertical-align: top;\n",
       "    }\n",
       "\n",
       "    .dataframe thead th {\n",
       "        text-align: right;\n",
       "    }\n",
       "</style>\n",
       "<table border=\"1\" class=\"dataframe\">\n",
       "  <thead>\n",
       "    <tr style=\"text-align: right;\">\n",
       "      <th></th>\n",
       "      <th>employer</th>\n",
       "      <th>title</th>\n",
       "      <th>salary</th>\n",
       "      <th>submitDate</th>\n",
       "      <th>startDate</th>\n",
       "      <th>caseStatus</th>\n",
       "      <th>city</th>\n",
       "      <th>state</th>\n",
       "      <th>submitMonth</th>\n",
       "      <th>startMonth</th>\n",
       "      <th>submitYear</th>\n",
       "      <th>startYear</th>\n",
       "    </tr>\n",
       "  </thead>\n",
       "  <tbody>\n",
       "    <tr>\n",
       "      <th>0</th>\n",
       "      <td>AMERICAN INSTITUTES FOR RESEARCH</td>\n",
       "      <td>Associate Data Scientist</td>\n",
       "      <td>43181</td>\n",
       "      <td>2015-09-29</td>\n",
       "      <td>2015-11-01</td>\n",
       "      <td>CERTIFIED</td>\n",
       "      <td>ROCKVILLE</td>\n",
       "      <td>MD</td>\n",
       "      <td>Sep</td>\n",
       "      <td>Nov</td>\n",
       "      <td>2015</td>\n",
       "      <td>2015</td>\n",
       "    </tr>\n",
       "    <tr>\n",
       "      <th>1</th>\n",
       "      <td>MIKAN ASSOCIATES LLC</td>\n",
       "      <td>Associate Data Scientist</td>\n",
       "      <td>50190</td>\n",
       "      <td>2015-03-16</td>\n",
       "      <td>2015-09-06</td>\n",
       "      <td>CERTIFIED</td>\n",
       "      <td>CHICAGO</td>\n",
       "      <td>IL</td>\n",
       "      <td>Mar</td>\n",
       "      <td>Sep</td>\n",
       "      <td>2015</td>\n",
       "      <td>2015</td>\n",
       "    </tr>\n",
       "    <tr>\n",
       "      <th>2</th>\n",
       "      <td>BINARY GROUP INC</td>\n",
       "      <td>Associate Data Scientist</td>\n",
       "      <td>55000</td>\n",
       "      <td>2015-03-11</td>\n",
       "      <td>2015-09-10</td>\n",
       "      <td>WITHDRAWN</td>\n",
       "      <td>ARLINGTON</td>\n",
       "      <td>VA</td>\n",
       "      <td>Mar</td>\n",
       "      <td>Sep</td>\n",
       "      <td>2015</td>\n",
       "      <td>2015</td>\n",
       "    </tr>\n",
       "    <tr>\n",
       "      <th>3</th>\n",
       "      <td>BINARY GROUP INC</td>\n",
       "      <td>Associate Data Scientist</td>\n",
       "      <td>55000</td>\n",
       "      <td>2015-03-11</td>\n",
       "      <td>2015-09-10</td>\n",
       "      <td>DENIED</td>\n",
       "      <td>ARLINGTON</td>\n",
       "      <td>VA</td>\n",
       "      <td>Mar</td>\n",
       "      <td>Sep</td>\n",
       "      <td>2015</td>\n",
       "      <td>2015</td>\n",
       "    </tr>\n",
       "    <tr>\n",
       "      <th>4</th>\n",
       "      <td>BINARY GROUP INC</td>\n",
       "      <td>Associate Data Scientist</td>\n",
       "      <td>55000</td>\n",
       "      <td>2015-03-18</td>\n",
       "      <td>2015-09-10</td>\n",
       "      <td>CERTIFIED</td>\n",
       "      <td>ARLINGTON</td>\n",
       "      <td>VA</td>\n",
       "      <td>Mar</td>\n",
       "      <td>Sep</td>\n",
       "      <td>2015</td>\n",
       "      <td>2015</td>\n",
       "    </tr>\n",
       "  </tbody>\n",
       "</table>\n",
       "</div>"
      ],
      "text/plain": [
       "                           employer                     title  salary  \\\n",
       "0  AMERICAN INSTITUTES FOR RESEARCH  Associate Data Scientist   43181   \n",
       "1              MIKAN ASSOCIATES LLC  Associate Data Scientist   50190   \n",
       "2                  BINARY GROUP INC  Associate Data Scientist   55000   \n",
       "3                  BINARY GROUP INC  Associate Data Scientist   55000   \n",
       "4                  BINARY GROUP INC  Associate Data Scientist   55000   \n",
       "\n",
       "   submitDate   startDate caseStatus       city state submitMonth startMonth  \\\n",
       "0  2015-09-29  2015-11-01  CERTIFIED  ROCKVILLE    MD         Sep        Nov   \n",
       "1  2015-03-16  2015-09-06  CERTIFIED    CHICAGO    IL         Mar        Sep   \n",
       "2  2015-03-11  2015-09-10  WITHDRAWN  ARLINGTON    VA         Mar        Sep   \n",
       "3  2015-03-11  2015-09-10     DENIED  ARLINGTON    VA         Mar        Sep   \n",
       "4  2015-03-18  2015-09-10  CERTIFIED  ARLINGTON    VA         Mar        Sep   \n",
       "\n",
       "   submitYear  startYear  \n",
       "0        2015       2015  \n",
       "1        2015       2015  \n",
       "2        2015       2015  \n",
       "3        2015       2015  \n",
       "4        2015       2015  "
      ]
     },
     "execution_count": 18,
     "metadata": {},
     "output_type": "execute_result"
    }
   ],
   "source": [
    "ds.head()"
   ]
  },
  {
   "cell_type": "code",
   "execution_count": 19,
   "metadata": {},
   "outputs": [],
   "source": [
    "da.to_csv(\"h1bDataAnalystCleaned.csv\")\n",
    "ds.to_csv(\"h1bDataScientistCleaned.csv\")\n",
    "se.to_csv(\"h1bSoftwareEngineerCleaned.csv\")"
   ]
  }
 ],
 "metadata": {
  "kernelspec": {
   "display_name": "Python 3",
   "language": "python",
   "name": "python3"
  },
  "language_info": {
   "codemirror_mode": {
    "name": "ipython",
    "version": 3
   },
   "file_extension": ".py",
   "mimetype": "text/x-python",
   "name": "python",
   "nbconvert_exporter": "python",
   "pygments_lexer": "ipython3",
   "version": "3.7.9"
  }
 },
 "nbformat": 4,
 "nbformat_minor": 4
}
